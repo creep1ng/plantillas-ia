{
  "cells": [
    {
      "cell_type": "markdown",
      "metadata": {},
      "source": [
        "# Introducción\n",
        "\n",
        "Una breve descripción del dataset, si hace falta."
      ]
    },
    {
      "cell_type": "markdown",
      "metadata": {},
      "source": [
        "# Preparación de datos"
      ]
    },
    {
      "cell_type": "markdown",
      "metadata": {
        "id": "06Cvam_0CcmF"
      },
      "source": [
        "## Carga de datos y corrección de tipos"
      ]
    },
    {
      "cell_type": "code",
      "execution_count": null,
      "metadata": {
        "id": "mGIAAGQNCpU8"
      },
      "outputs": [],
      "source": [
        "import pandas as pd\n",
        "import numpy as np\n",
        "import matplotlib.pyplot as plt"
      ]
    },
    {
      "cell_type": "code",
      "execution_count": null,
      "metadata": {
        "colab": {
          "base_uri": "https://localhost:8080/",
          "height": 226
        },
        "id": "SOib9VMWCUaX",
        "outputId": "74316874-d055-4871-cb67-6ff617bbbf6b"
      },
      "outputs": [],
      "source": [
        "# Ajustar según lo necesario\n",
        "df = pd.read_csv('')\n",
        "df.head()"
      ]
    },
    {
      "cell_type": "code",
      "execution_count": null,
      "metadata": {
        "colab": {
          "base_uri": "https://localhost:8080/"
        },
        "id": "pDFrxdI_C9Kf",
        "outputId": "d36a8801-e448-42c5-d9c1-88ada40fe362"
      },
      "outputs": [],
      "source": [
        "df.info()"
      ]
    },
    {
      "cell_type": "markdown",
      "metadata": {
        "id": "kp7jOMlwC_pG"
      },
      "source": [
        "## Corrección de tipos de datos"
      ]
    },
    {
      "cell_type": "code",
      "execution_count": null,
      "metadata": {
        "colab": {
          "base_uri": "https://localhost:8080/"
        },
        "id": "MlUVWC3UDCQj",
        "outputId": "1035a5fe-8458-4099-87c0-a6ac741299b0"
      },
      "outputs": [],
      "source": [
        "# Esto debería ser suficiente\n",
        "object_columns = [col for col in df.columns if df[col].dtype == \"object\"]\n",
        "\n",
        "for col in object_columns:\n",
        "    df[col] = df[col].astype(\"category\")\n",
        "    print(f\"df[{col}]: {df[col].unique()}\")"
      ]
    },
    {
      "cell_type": "markdown",
      "metadata": {
        "id": "5EAybOHED0UQ"
      },
      "source": [
        "## Descripción estadística de los datos"
      ]
    },
    {
      "cell_type": "code",
      "execution_count": null,
      "metadata": {
        "colab": {
          "base_uri": "https://localhost:8080/",
          "height": 300
        },
        "id": "keaQJEqFEGju",
        "outputId": "b32918ba-da02-4bf3-8c30-063d1514c778"
      },
      "outputs": [],
      "source": [
        "df.describe()"
      ]
    },
    {
      "cell_type": "markdown",
      "metadata": {},
      "source": [
        "### Histogramas"
      ]
    },
    {
      "cell_type": "code",
      "execution_count": null,
      "metadata": {
        "colab": {
          "base_uri": "https://localhost:8080/",
          "height": 1000
        },
        "id": "BBoDPvT0FBXm",
        "outputId": "e82795c6-5ad6-47ff-945f-6767f979594b"
      },
      "outputs": [],
      "source": [
        "numeric_columns = df.select_dtypes(include=[np.number]).columns\n",
        "\n",
        "plt.figure(figsize=(20, 25))\n",
        "for i, column in enumerate(numeric_columns):\n",
        "    plt.subplot(10, 4, i + 1)\n",
        "    plt.hist(df[column].dropna(), bins=30, alpha=0.7, edgecolor='black')\n",
        "    plt.title(f'Histograma de {column}')\n",
        "    plt.tight_layout()\n",
        "plt.show()"
      ]
    },
    {
      "cell_type": "markdown",
      "metadata": {},
      "source": [
        "### Boxplots"
      ]
    },
    {
      "cell_type": "code",
      "execution_count": null,
      "metadata": {},
      "outputs": [],
      "source": [
        "plt.figure(figsize=(20, 25))\n",
        "for i, column in enumerate(numeric_columns):\n",
        "    plt.subplot(10, 4, i + 1)\n",
        "    plt.boxplot(df[column].dropna())\n",
        "    plt.grid()\n",
        "    plt.title(f'Boxplot de {column}')\n",
        "    plt.tight_layout()\n",
        "plt.show()"
      ]
    },
    {
      "cell_type": "markdown",
      "metadata": {},
      "source": [
        "### Gráficos de barras"
      ]
    },
    {
      "cell_type": "code",
      "execution_count": null,
      "metadata": {},
      "outputs": [],
      "source": [
        "plt.figure(figsize=(20, 25))\n",
        "for i, column in enumerate(object_columns):\n",
        "    plt.subplot(10, 4, i + 1)\n",
        "    plt.bar(df[column].unique(), df[column].value_counts())\n",
        "    plt.title(f'Histograma de {column}')\n",
        "    plt.tight_layout()\n",
        "plt.show()"
      ]
    },
    {
      "cell_type": "markdown",
      "metadata": {
        "id": "HnidWn6LHMJj"
      },
      "source": [
        "## Limpieza de atípicos"
      ]
    },
    {
      "cell_type": "markdown",
      "metadata": {},
      "source": [
        "### Variables cuantitativas\n",
        "\n",
        "**Nota: NO SIEMPRE ES NECESARIO IMPUTAR. ESTO DEPENDE DEL CONTEXTO.**\n",
        "\n",
        "---\n",
        "\n",
        "Para el caso de que solo sea necesario imputar una variable, se puede usar el código\n",
        "\n",
        "```python\n",
        "col = \"\"\n",
        "\n",
        "Q1 = df[col].quantile(0.25)\n",
        "Q3 = df[col].quantile(0.75)\n",
        "IQR = Q3 - Q1\n",
        "lower_bound = Q1 - 1.5 * IQR\n",
        "upper_bound = Q3 + 1.5 * IQR\n",
        "df[col] = np.where((df[col] < lower_bound) | (df[col] > upper_bound), np.nan, df[col])\n",
        "```\n",
        "\n",
        "De todos modos, el código suministrado abajo con el for debería ser suficiente."
      ]
    },
    {
      "cell_type": "code",
      "execution_count": null,
      "metadata": {
        "id": "Z4Pf1SIPHs9V"
      },
      "outputs": [],
      "source": [
        "for col in numeric_columns:\n",
        "    Q1 = df[col].quantile(0.25)\n",
        "    Q3 = df[col].quantile(0.75)\n",
        "    IQR = Q3 - Q1\n",
        "    lower_bound = Q1 - 1.5 * IQR\n",
        "    upper_bound = Q3 + 1.5 * IQR\n",
        "    df[col] = np.where((df[col] < lower_bound) | (df[col] > upper_bound), np.nan, df[col])"
      ]
    },
    {
      "cell_type": "markdown",
      "metadata": {
        "id": "GRqqdnkGJq8h"
      },
      "source": [
        "Imputando con la media,"
      ]
    },
    {
      "cell_type": "code",
      "execution_count": null,
      "metadata": {
        "colab": {
          "base_uri": "https://localhost:8080/"
        },
        "id": "pBU-D9vWJnVh",
        "outputId": "933c1990-7bb5-46fc-da39-bd361c5a130f"
      },
      "outputs": [],
      "source": [
        "from sklearn.impute import SimpleImputer\n",
        "\n",
        "imputer = SimpleImputer(strategy='mean')\n",
        "df[numeric_columns] = imputer.fit_transform(df[numeric_columns])\n",
        "df.info()"
      ]
    },
    {
      "cell_type": "markdown",
      "metadata": {},
      "source": [
        "Graficando los datos para verificar que se hayan eliminado los outliers:"
      ]
    },
    {
      "cell_type": "code",
      "execution_count": null,
      "metadata": {
        "colab": {
          "base_uri": "https://localhost:8080/",
          "height": 447
        },
        "id": "bj-3OkJ8PrS7",
        "outputId": "41115df1-c889-4222-c9db-b09e1c9da528"
      },
      "outputs": [],
      "source": [
        "plt.figure(figsize=(20, 25))\n",
        "for i, column in enumerate(numeric_columns):\n",
        "    plt.subplot(10, 4, i + 1)\n",
        "    plt.boxplot(df[column].dropna())\n",
        "    plt.grid()\n",
        "    plt.title(f'Histograma de {column}')\n",
        "    plt.tight_layout()\n",
        "plt.show()"
      ]
    },
    {
      "cell_type": "markdown",
      "metadata": {},
      "source": [
        "### Variables cualitativas"
      ]
    },
    {
      "cell_type": "code",
      "execution_count": null,
      "metadata": {
        "colab": {
          "base_uri": "https://localhost:8080/"
        },
        "id": "9j59GPnhNIFq",
        "outputId": "ed399f9f-4d77-4d59-fde3-80b2198ec502"
      },
      "outputs": [],
      "source": [
        "categorical_imputer = SimpleImputer(missing_values=np.nan, strategy=\"most_frequent\")\n",
        "df[object_columns] = categorical_imputer.fit_transform(df[object_columns])\n",
        "df.info()"
      ]
    },
    {
      "cell_type": "markdown",
      "metadata": {
        "id": "3dsmYw65Nf4n"
      },
      "source": [
        "## Transformaciones de datos"
      ]
    },
    {
      "cell_type": "markdown",
      "metadata": {},
      "source": [
        "### LabelEncoder\n",
        "\n",
        "Aquí, se asigna a `objective_variable` el nombre de la variable objetivo a aplicarle el `LabelEncoder`. Si la variable objetivo es numérica, puede saltarse este paso y borrar la célula."
      ]
    },
    {
      "cell_type": "code",
      "execution_count": null,
      "metadata": {
        "colab": {
          "base_uri": "https://localhost:8080/"
        },
        "id": "UfELOIlVNmnF",
        "outputId": "8711dd46-0bc0-45ca-964e-79be28a0b1ce"
      },
      "outputs": [],
      "source": [
        "from sklearn.preprocessing import LabelEncoder\n",
        "\n",
        "objective_variable = \"risk\"\n",
        "\n",
        "le = LabelEncoder()\n",
        "df[objective_variable] = le.fit_transform(df[objective_variable])\n",
        "df[objective_variable].unique()"
      ]
    },
    {
      "cell_type": "code",
      "execution_count": null,
      "metadata": {
        "colab": {
          "base_uri": "https://localhost:8080/",
          "height": 226
        },
        "id": "Swb-MrnBOQDv",
        "outputId": "dcbe44f2-015d-4e73-81a7-c513318aca4d"
      },
      "outputs": [],
      "source": [
        "drop_first_columns = [col for col in object_columns if len(df[col].unique()) == 2 and col != objective_variable]\n",
        "not_drop_first = [col for col in object_columns if len(df[col]) != 2 and col != objective_variable]\n",
        "\n",
        "df = pd.get_dummies(df, columns=not_drop_first, drop_first=False, dtype='int')\n",
        "df = pd.get_dummies(df, columns=drop_first_columns, drop_first=True, dtype='int')\n",
        "\n",
        "df.head()"
      ]
    },
    {
      "cell_type": "code",
      "execution_count": null,
      "metadata": {
        "colab": {
          "base_uri": "https://localhost:8080/"
        },
        "id": "8RWp5MjcUzOE",
        "outputId": "46b8573d-d6d3-472e-ff8a-d9083ef690f6"
      },
      "outputs": [],
      "source": [
        "df.info()"
      ]
    }
  ],
  "metadata": {
    "colab": {
      "provenance": [],
      "toc_visible": true
    },
    "kernelspec": {
      "display_name": "Python 3",
      "name": "python3"
    },
    "language_info": {
      "codemirror_mode": {
        "name": "ipython",
        "version": 3
      },
      "file_extension": ".py",
      "mimetype": "text/x-python",
      "name": "python",
      "nbconvert_exporter": "python",
      "pygments_lexer": "ipython3",
      "version": "3.12.4"
    }
  },
  "nbformat": 4,
  "nbformat_minor": 0
}
