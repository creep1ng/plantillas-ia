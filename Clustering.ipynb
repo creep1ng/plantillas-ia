{
  "cells": [
    {
      "cell_type": "markdown",
      "metadata": {
        "id": "wA9Lq3R4OybF"
      },
      "source": [
        "K-means es es el método comunmente utilizado a la hora de hacer clusstering. Define k centroides, uno por cluster, y los dato son asociados al centroide más cercano.\n",
        "\n",
        "El proceso de preparación de datos es en la mayoría de pasos el común, con la excepción de que se deben normalizar los datos numéricos entre 0 y 1, y que al no existir una variable numérica no es necesario aplicar un LabelEncoder, ni una división 70-30 de los datos.\n",
        "\n",
        "Los hiperparámetros del modelo son los siguientes:\n",
        "\n",
        "- k: Cantidad de clusters\n",
        "- Función de distancia.\n",
        "- Iteraciones: Una cantidad de iteraciones máximas a realizar.\n",
        "\n",
        "Las medidas de evaluación de k-means son:\n",
        "\n",
        "- Cohesión: Qué tan juntos están los datos con respecto al (los) centroides. Mientras menor sea, mejor.\n",
        "\n",
        "- Separabilidad: Qué tan distantes están los clussters los unos de otros. Mientras mayor sea, mejor."
      ]
    },
    {
      "cell_type": "markdown",
      "metadata": {},
      "source": [
        "En esta plantilla se asume que ya se cuentan con los datos limpios y preparados, sin la aplicación de LabelEncoder. Luego en esta misma plantilla se normalizan las variables numéricas."
      ]
    },
    {
      "cell_type": "code",
      "execution_count": null,
      "metadata": {
        "id": "H8uUHg8TLosL"
      },
      "outputs": [],
      "source": [
        "import pandas as pd\n",
        "import numpy as np\n",
        "import matplotlib.pyplot as plt"
      ]
    },
    {
      "cell_type": "markdown",
      "metadata": {
        "id": "u3YM0aYMTii7"
      },
      "source": [
        "## Normalización de variables numéricas\n",
        "\n",
        "Dada la presencia de variables numéricas se procede a normalizar."
      ]
    },
    {
      "cell_type": "code",
      "execution_count": null,
      "metadata": {
        "colab": {
          "base_uri": "https://localhost:8080/",
          "height": 206
        },
        "id": "mop5HmTOSecA",
        "outputId": "e43f26e2-5bb7-4d9a-cc71-99d3717fe55a"
      },
      "outputs": [],
      "source": [
        "from sklearn.preprocessing import MinMaxScaler\n",
        "\n",
        "min_max_scaler = MinMaxScaler()\n",
        "numeric_columns\n",
        "min_max_scaler.fit(df[numeric_columns])\n",
        "\n",
        "df[numeric_columns]= min_max_scaler.transform(df[numeric_columns])\n",
        "df.head()"
      ]
    },
    {
      "cell_type": "markdown",
      "metadata": {
        "id": "uqjFSaeiT0aE"
      },
      "source": [
        "## Aprendizaje"
      ]
    },
    {
      "cell_type": "markdown",
      "metadata": {
        "id": "sd9zpjmuc_vk"
      },
      "source": [
        "## Método del codo\n",
        "\n",
        "El método del codo se usa para determinar la cantidad de clusters a usar. Se toma el valor de k para el cual los decrecimientos de inercia empiezan a ser decrecientes."
      ]
    },
    {
      "cell_type": "code",
      "execution_count": null,
      "metadata": {
        "colab": {
          "base_uri": "https://localhost:8080/",
          "height": 1000
        },
        "id": "4kECHltScNME",
        "outputId": "4815225e-5958-4d5b-fa43-48b6289721bd"
      },
      "outputs": [],
      "source": [
        "from sklearn.cluster import KMeans\n",
        "\n",
        "ks = range(1, 20) \n",
        "inertias = []\n",
        "\n",
        "for k in ks:\n",
        "    model = KMeans(n_clusters=k)\n",
        "    model.fit(df)\n",
        "    inertias.append(model.inertia_)\n",
        "\n",
        "plt.plot(ks, inertias, '-o')\n",
        "plt.xlabel('Numero de clusters, k')\n",
        "plt.ylabel('inertia')\n",
        "plt.xticks(ks)\n",
        "plt.show()"
      ]
    },
    {
      "cell_type": "code",
      "execution_count": null,
      "metadata": {
        "colab": {
          "base_uri": "https://localhost:8080/",
          "height": 129
        },
        "id": "SPSiGdV9T3Lq",
        "outputId": "306fd4d3-deda-4752-f658-c7fb8d71e53c"
      },
      "outputs": [],
      "source": [
        "from sklearn.cluster import KMeans\n",
        "k = 7\n",
        "model = KMeans(n_clusters=k, max_iter=100)\n",
        "model.fit(df)"
      ]
    },
    {
      "cell_type": "code",
      "execution_count": null,
      "metadata": {
        "colab": {
          "base_uri": "https://localhost:8080/"
        },
        "id": "FW20t1LJUS10",
        "outputId": "e09163dd-2319-4d76-9fab-ae12296bbd5d"
      },
      "outputs": [],
      "source": [
        "print(model.inertia_)"
      ]
    },
    {
      "cell_type": "code",
      "execution_count": null,
      "metadata": {
        "colab": {
          "base_uri": "https://localhost:8080/",
          "height": 410
        },
        "id": "KPwtbUxXWNup",
        "outputId": "2c23ffe1-cac6-4de1-b62a-05882da31ce0"
      },
      "outputs": [],
      "source": [
        "centroids = pd.DataFrame(model.cluster_centers_, columns=df.columns)\n",
        "centroids.round(0)\n",
        "centroids"
      ]
    },
    {
      "cell_type": "markdown",
      "metadata": {},
      "source": [
        "Para obtener una salida legible"
      ]
    },
    {
      "cell_type": "code",
      "execution_count": null,
      "metadata": {},
      "outputs": [],
      "source": [
        "centroids[numeric_columns] = min_max_scaler.inverse_transform(centroids[numeric_columns])\n",
        "centroids.round(0)"
      ]
    },
    {
      "cell_type": "markdown",
      "metadata": {},
      "source": [
        "Asignando los clusters al DataFrame,"
      ]
    },
    {
      "cell_type": "markdown",
      "metadata": {},
      "source": [
        "df_clean['cluster'] = model.labels_\n",
        "df_clean.head()"
      ]
    },
    {
      "cell_type": "markdown",
      "metadata": {},
      "source": [
        "# Entrenando un modelo para clasificación en base al clustering\n",
        "\n",
        "Para esto, se harán las siguientes acciones:\n",
        "\n",
        "1. Dividir el dataset con su cluster asignado con una razón de 70/30.\n",
        "2. Entrenar un árbol de decisión (o knn) con el 70% de los datos.\n",
        "3. Dar métricas de la exactitud del modelo."
      ]
    },
    {
      "cell_type": "code",
      "execution_count": null,
      "metadata": {},
      "outputs": [],
      "source": [
        "from sklearn.tree import TreeClassifier\n",
        "from sklearn.neighbors import KNeighborsClassifier\n",
        "from sklearn.model_selection import train_test_split\n",
        "from sklearn.metrics import accuracy_score"
      ]
    },
    {
      "cell_type": "markdown",
      "metadata": {},
      "source": [
        "## Preparación de los datos"
      ]
    },
    {
      "cell_type": "code",
      "execution_count": null,
      "metadata": {},
      "outputs": [],
      "source": [
        "X = df.drop('cluster', axis=1)\n",
        "y = df['cluster']\n",
        "x_train, x_test, y_train, y_test = train_test_split(X, y, test_size=0.3, stratify=y)"
      ]
    },
    {
      "cell_type": "markdown",
      "metadata": {},
      "source": [
        "## Entrenamiento del árbol de decisión"
      ]
    },
    {
      "cell_type": "code",
      "execution_count": null,
      "metadata": {},
      "outputs": [],
      "source": [
        "model_Tree = TreeClassifier(criterion='squared_error', min_samples_leaf=2, max_depth=None)\n",
        "model_Tree.fit(x_train, y_train)"
      ]
    },
    {
      "cell_type": "markdown",
      "metadata": {},
      "source": [
        "### Gráfica del árbol de decisión"
      ]
    },
    {
      "cell_type": "code",
      "execution_count": null,
      "metadata": {},
      "outputs": [],
      "source": [
        "from sklearn.tree import plot_tree\n",
        "plt.figure(figsize=(25,30))\n",
        "plot_tree(model_Tree, feature_names=X_train.columns.values,\n",
        "          class_names=['Presupuesto para invertir'],\n",
        "          rounded=True, filled=True)\n",
        "plt.show()"
      ]
    },
    {
      "cell_type": "markdown",
      "metadata": {},
      "source": [
        "## Entrenamiento del modelo con Knn."
      ]
    },
    {
      "cell_type": "code",
      "execution_count": null,
      "metadata": {},
      "outputs": [],
      "source": [
        "model_knn = KNeighborsClassifier(n_neighbors=5)\n",
        "model_knn.fit(x_train, y_train)"
      ]
    },
    {
      "cell_type": "markdown",
      "metadata": {},
      "source": [
        "## Evaluación de ambos modelos"
      ]
    },
    {
      "cell_type": "code",
      "execution_count": null,
      "metadata": {},
      "outputs": [],
      "source": [
        "y_pred = model_Tree.predict(x_test)\n",
        "print(\"accuracy_score del arbol de decisión:\", accuracy_score(y_test, y_pred))"
      ]
    },
    {
      "cell_type": "code",
      "execution_count": null,
      "metadata": {},
      "outputs": [],
      "source": [
        "plt.scatter(Y_test, Y_pred)\n",
        "plt.plot([Y_test.min(), Y_test.max()], [Y_test.min(), Y_test.max()], 'k--', lw=2)\n",
        "plt.xlabel('Valores reales')\n",
        "plt.ylabel('Valores predichos')\n",
        "plt.title(\"Gráfico de dispersión del árbol de decisión\")\n",
        "plt.show()"
      ]
    },
    {
      "cell_type": "code",
      "execution_count": null,
      "metadata": {},
      "outputs": [],
      "source": [
        "y_pred = model_Tree.predict(x_test)\n",
        "print(\"accuracy_score del knn:\", accuracy_score(y_test, y_pred))"
      ]
    },
    {
      "cell_type": "code",
      "execution_count": null,
      "metadata": {},
      "outputs": [],
      "source": [
        "plt.scatter(Y_test, Y_pred)\n",
        "plt.plot([Y_test.min(), Y_test.max()], [Y_test.min(), Y_test.max()], 'k--', lw=2)\n",
        "plt.xlabel('Valores reales')\n",
        "plt.ylabel('Valores predichos')\n",
        "plt.title(\"Gráfico de dispersión del árbol de decisión\")\n",
        "plt.show()"
      ]
    },
    {
      "cell_type": "markdown",
      "metadata": {},
      "source": [
        "## Guardando el modelo"
      ]
    },
    {
      "cell_type": "code",
      "execution_count": null,
      "metadata": {},
      "outputs": [],
      "source": [
        "import pickle\n",
        "filename = 'model.pkl'\n",
        "variables= X.columns._values\n",
        "pickle.dump([model_Tree, model_Knn, variables], open(filename, 'wb'))"
      ]
    }
  ],
  "metadata": {
    "colab": {
      "provenance": []
    },
    "kernelspec": {
      "display_name": "Python 3",
      "name": "python3"
    },
    "language_info": {
      "codemirror_mode": {
        "name": "ipython",
        "version": 3
      },
      "file_extension": ".py",
      "mimetype": "text/x-python",
      "name": "python",
      "nbconvert_exporter": "python",
      "pygments_lexer": "ipython3",
      "version": "3.12.5"
    }
  },
  "nbformat": 4,
  "nbformat_minor": 0
}
