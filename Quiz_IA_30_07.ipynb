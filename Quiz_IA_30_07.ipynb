{
  "cells": [
    {
      "cell_type": "markdown",
      "metadata": {},
      "source": [
        "# Introducción\n",
        "\n",
        "Una breve descripción del dataset, si hace falta."
      ]
    },
    {
      "cell_type": "markdown",
      "metadata": {
        "id": "06Cvam_0CcmF"
      },
      "source": [
        "# Carga de datos y corrección de tipos"
      ]
    },
    {
      "cell_type": "code",
      "execution_count": 1,
      "metadata": {
        "id": "mGIAAGQNCpU8"
      },
      "outputs": [],
      "source": [
        "import pandas as pd\n",
        "import numpy as np\n",
        "import matplotlib.pyplot as plt"
      ]
    },
    {
      "cell_type": "code",
      "execution_count": 2,
      "metadata": {
        "colab": {
          "base_uri": "https://localhost:8080/",
          "height": 226
        },
        "id": "SOib9VMWCUaX",
        "outputId": "74316874-d055-4871-cb67-6ff617bbbf6b"
      },
      "outputs": [
        {
          "data": {
            "text/html": [
              "<div>\n",
              "<style scoped>\n",
              "    .dataframe tbody tr th:only-of-type {\n",
              "        vertical-align: middle;\n",
              "    }\n",
              "\n",
              "    .dataframe tbody tr th {\n",
              "        vertical-align: top;\n",
              "    }\n",
              "\n",
              "    .dataframe thead th {\n",
              "        text-align: right;\n",
              "    }\n",
              "</style>\n",
              "<table border=\"1\" class=\"dataframe\">\n",
              "  <thead>\n",
              "    <tr style=\"text-align: right;\">\n",
              "      <th></th>\n",
              "      <th>age</th>\n",
              "      <th>cartype</th>\n",
              "      <th>risk</th>\n",
              "    </tr>\n",
              "  </thead>\n",
              "  <tbody>\n",
              "    <tr>\n",
              "      <th>0</th>\n",
              "      <td>20</td>\n",
              "      <td>combi</td>\n",
              "      <td>high</td>\n",
              "    </tr>\n",
              "    <tr>\n",
              "      <th>1</th>\n",
              "      <td>18</td>\n",
              "      <td>sport</td>\n",
              "      <td>high</td>\n",
              "    </tr>\n",
              "    <tr>\n",
              "      <th>2</th>\n",
              "      <td>40</td>\n",
              "      <td>sport</td>\n",
              "      <td>high</td>\n",
              "    </tr>\n",
              "    <tr>\n",
              "      <th>3</th>\n",
              "      <td>50</td>\n",
              "      <td>family</td>\n",
              "      <td>low</td>\n",
              "    </tr>\n",
              "    <tr>\n",
              "      <th>4</th>\n",
              "      <td>35</td>\n",
              "      <td>minivan</td>\n",
              "      <td>low</td>\n",
              "    </tr>\n",
              "  </tbody>\n",
              "</table>\n",
              "</div>"
            ],
            "text/plain": [
              "   age  cartype  risk\n",
              "0   20    combi  high\n",
              "1   18    sport  high\n",
              "2   40    sport  high\n",
              "3   50   family   low\n",
              "4   35  minivan   low"
            ]
          },
          "execution_count": 2,
          "metadata": {},
          "output_type": "execute_result"
        }
      ],
      "source": [
        "# Ajustar según lo necesario\n",
        "df = pd.read_csv('test-datasets/carRisk.csv')\n",
        "df.head()"
      ]
    },
    {
      "cell_type": "code",
      "execution_count": 3,
      "metadata": {
        "colab": {
          "base_uri": "https://localhost:8080/"
        },
        "id": "pDFrxdI_C9Kf",
        "outputId": "d36a8801-e448-42c5-d9c1-88ada40fe362"
      },
      "outputs": [
        {
          "name": "stdout",
          "output_type": "stream",
          "text": [
            "<class 'pandas.core.frame.DataFrame'>\n",
            "RangeIndex: 720 entries, 0 to 719\n",
            "Data columns (total 3 columns):\n",
            " #   Column   Non-Null Count  Dtype \n",
            "---  ------   --------------  ----- \n",
            " 0   age      720 non-null    int64 \n",
            " 1   cartype  720 non-null    object\n",
            " 2   risk     720 non-null    object\n",
            "dtypes: int64(1), object(2)\n",
            "memory usage: 17.0+ KB\n"
          ]
        }
      ],
      "source": [
        "df.info()"
      ]
    },
    {
      "cell_type": "markdown",
      "metadata": {
        "id": "kp7jOMlwC_pG"
      },
      "source": [
        "# Corrección de tipos de datos"
      ]
    },
    {
      "cell_type": "code",
      "execution_count": 4,
      "metadata": {
        "colab": {
          "base_uri": "https://localhost:8080/"
        },
        "id": "MlUVWC3UDCQj",
        "outputId": "1035a5fe-8458-4099-87c0-a6ac741299b0"
      },
      "outputs": [
        {
          "name": "stdout",
          "output_type": "stream",
          "text": [
            "df[cartype]: ['combi', 'sport', 'family', 'minivan']\n",
            "Categories (4, object): ['combi', 'family', 'minivan', 'sport']\n",
            "df[risk]: ['high', 'low']\n",
            "Categories (2, object): ['high', 'low']\n"
          ]
        }
      ],
      "source": [
        "# Esto debería ser suficiente\n",
        "object_columns = [col for col in df.columns if df[col].dtype == \"object\"]\n",
        "\n",
        "for col in object_columns:\n",
        "    df[col] = df[col].astype(\"category\")\n",
        "    print(f\"df[{col}]: {df[col].unique()}\")"
      ]
    },
    {
      "cell_type": "markdown",
      "metadata": {
        "id": "5EAybOHED0UQ"
      },
      "source": [
        "# Descripción estadística de los datos"
      ]
    },
    {
      "cell_type": "code",
      "execution_count": 5,
      "metadata": {
        "colab": {
          "base_uri": "https://localhost:8080/",
          "height": 300
        },
        "id": "keaQJEqFEGju",
        "outputId": "b32918ba-da02-4bf3-8c30-063d1514c778"
      },
      "outputs": [
        {
          "data": {
            "text/html": [
              "<div>\n",
              "<style scoped>\n",
              "    .dataframe tbody tr th:only-of-type {\n",
              "        vertical-align: middle;\n",
              "    }\n",
              "\n",
              "    .dataframe tbody tr th {\n",
              "        vertical-align: top;\n",
              "    }\n",
              "\n",
              "    .dataframe thead th {\n",
              "        text-align: right;\n",
              "    }\n",
              "</style>\n",
              "<table border=\"1\" class=\"dataframe\">\n",
              "  <thead>\n",
              "    <tr style=\"text-align: right;\">\n",
              "      <th></th>\n",
              "      <th>age</th>\n",
              "    </tr>\n",
              "  </thead>\n",
              "  <tbody>\n",
              "    <tr>\n",
              "      <th>count</th>\n",
              "      <td>720.000000</td>\n",
              "    </tr>\n",
              "    <tr>\n",
              "      <th>mean</th>\n",
              "      <td>33.125000</td>\n",
              "    </tr>\n",
              "    <tr>\n",
              "      <th>std</th>\n",
              "      <td>9.974847</td>\n",
              "    </tr>\n",
              "    <tr>\n",
              "      <th>min</th>\n",
              "      <td>18.000000</td>\n",
              "    </tr>\n",
              "    <tr>\n",
              "      <th>25%</th>\n",
              "      <td>27.500000</td>\n",
              "    </tr>\n",
              "    <tr>\n",
              "      <th>50%</th>\n",
              "      <td>33.500000</td>\n",
              "    </tr>\n",
              "    <tr>\n",
              "      <th>75%</th>\n",
              "      <td>40.000000</td>\n",
              "    </tr>\n",
              "    <tr>\n",
              "      <th>max</th>\n",
              "      <td>50.000000</td>\n",
              "    </tr>\n",
              "  </tbody>\n",
              "</table>\n",
              "</div>"
            ],
            "text/plain": [
              "              age\n",
              "count  720.000000\n",
              "mean    33.125000\n",
              "std      9.974847\n",
              "min     18.000000\n",
              "25%     27.500000\n",
              "50%     33.500000\n",
              "75%     40.000000\n",
              "max     50.000000"
            ]
          },
          "execution_count": 5,
          "metadata": {},
          "output_type": "execute_result"
        }
      ],
      "source": [
        "df.describe()"
      ]
    },
    {
      "cell_type": "markdown",
      "metadata": {},
      "source": [
        "## Histogramas"
      ]
    },
    {
      "cell_type": "code",
      "execution_count": 16,
      "metadata": {
        "colab": {
          "base_uri": "https://localhost:8080/",
          "height": 1000
        },
        "id": "BBoDPvT0FBXm",
        "outputId": "e82795c6-5ad6-47ff-945f-6767f979594b"
      },
      "outputs": [
        {
          "data": {
            "image/png": "[encoded data removed]",
            "text/plain": [
              "<Figure size 2000x2500 with 1 Axes>"
            ]
          },
          "metadata": {},
          "output_type": "display_data"
        }
      ],
      "source": [
        "num_cols = df.select_dtypes(include=[np.number]).columns\n",
        "\n",
        "plt.figure(figsize=(20, 25))\n",
        "for i, column in enumerate(numeric_columns):\n",
        "    plt.subplot(10, 4, i + 1)\n",
        "    plt.hist(df[column].dropna(), bins=30, alpha=0.7, edgecolor='black')\n",
        "    plt.title(f'Histograma de {column}')\n",
        "    plt.tight_layout()\n",
        "plt.show()"
      ]
    },
    {
      "cell_type": "markdown",
      "metadata": {},
      "source": [
        "## Boxplots"
      ]
    },
    {
      "cell_type": "code",
      "execution_count": 17,
      "metadata": {},
      "outputs": [
        {
          "data": {
            "image/png": "[encoded data removed]",
            "text/plain": [
              "<Figure size 2000x2500 with 1 Axes>"
            ]
          },
          "metadata": {},
          "output_type": "display_data"
        }
      ],
      "source": [
        "plt.figure(figsize=(20, 25))\n",
        "for i, column in enumerate(numeric_columns):\n",
        "    plt.subplot(10, 4, i + 1)\n",
        "    plt.boxplot(df[column].dropna())\n",
        "    plt.grid()\n",
        "    plt.title(f'Histograma de {column}')\n",
        "    plt.tight_layout()\n",
        "plt.show()"
      ]
    },
    {
      "cell_type": "markdown",
      "metadata": {},
      "source": [
        "## Gráficos de barras"
      ]
    },
    {
      "cell_type": "code",
      "execution_count": 23,
      "metadata": {},
      "outputs": [
        {
          "data": {
            "image/png": "[encoded data removed]",
            "text/plain": [
              "<Figure size 2000x2500 with 2 Axes>"
            ]
          },
          "metadata": {},
          "output_type": "display_data"
        }
      ],
      "source": [
        "plt.figure(figsize=(20, 25))\n",
        "for i, column in enumerate(object_columns):\n",
        "    plt.subplot(10, 4, i + 1)\n",
        "    plt.bar(df[column].unique(), df[column].value_counts())\n",
        "    plt.title(f'Histograma de {column}')\n",
        "    plt.tight_layout()\n",
        "plt.show()"
      ]
    },
    {
      "cell_type": "markdown",
      "metadata": {
        "id": "HnidWn6LHMJj"
      },
      "source": [
        "# Limpieza de atípicos"
      ]
    },
    {
      "cell_type": "markdown",
      "metadata": {},
      "source": [
        "## Variables cuantitativas\n",
        "\n",
        "Para el caso de que solo sea necesario imputar una variable, se puede usar el código\n",
        "\n",
        "```python\n",
        "col = \"\"\n",
        "\n",
        "Q1 = df[col].quantile(0.25)\n",
        "Q3 = df[col].quantile(0.75)\n",
        "IQR = Q3 - Q1\n",
        "lower_bound = Q1 - 1.5 * IQR\n",
        "upper_bound = Q3 + 1.5 * IQR\n",
        "df[col] = np.where((df[col] < lower_bound) | (df[col] > upper_bound), np.nan, df[col])\n",
        "```\n",
        "\n",
        "De todos modos, el código suministrado abajo con el for debería ser suficiente."
      ]
    },
    {
      "cell_type": "code",
      "execution_count": 24,
      "metadata": {
        "id": "Z4Pf1SIPHs9V"
      },
      "outputs": [],
      "source": [
        "for col in numeric_columns:\n",
        "    Q1 = df[col].quantile(0.25)\n",
        "    Q3 = df[col].quantile(0.75)\n",
        "    IQR = Q3 - Q1\n",
        "    lower_bound = Q1 - 1.5 * IQR\n",
        "    upper_bound = Q3 + 1.5 * IQR\n",
        "    df[col] = np.where((df[col] < lower_bound) | (df[col] > upper_bound), np.nan, df[col])"
      ]
    },
    {
      "cell_type": "markdown",
      "metadata": {
        "id": "GRqqdnkGJq8h"
      },
      "source": [
        "Imputando con la media,"
      ]
    },
    {
      "cell_type": "code",
      "execution_count": null,
      "metadata": {
        "colab": {
          "base_uri": "https://localhost:8080/"
        },
        "id": "pBU-D9vWJnVh",
        "outputId": "933c1990-7bb5-46fc-da39-bd361c5a130f"
      },
      "outputs": [],
      "source": [
        "from sklearn.impute import SimpleImputer\n",
        "\n",
        "imputer = SimpleImputer(strategy='mean')\n",
        "df.apply()\n",
        "df[[\"Edad_al_momento_de_graduarse\"]] = imputer.fit_transform(df[[\"Edad_al_momento_de_graduarse\"]])\n",
        "df.info()"
      ]
    },
    {
      "cell_type": "code",
      "execution_count": null,
      "metadata": {
        "colab": {
          "base_uri": "https://localhost:8080/",
          "height": 447
        },
        "id": "bj-3OkJ8PrS7",
        "outputId": "41115df1-c889-4222-c9db-b09e1c9da528"
      },
      "outputs": [],
      "source": [
        "df[\"Edad_al_momento_de_graduarse\"].plot(kind=\"box\")"
      ]
    },
    {
      "cell_type": "code",
      "execution_count": null,
      "metadata": {
        "colab": {
          "base_uri": "https://localhost:8080/"
        },
        "id": "9j59GPnhNIFq",
        "outputId": "ed399f9f-4d77-4d59-fde3-80b2198ec502"
      },
      "outputs": [],
      "source": [
        "columns = [\"Sexo\", \"Area_del_Conocimiento\", \"Dominio_2do_idioma\"]\n",
        "\n",
        "for col in columns:\n",
        "  df[col].fillna(df[col].mode()[0], inplace=True)\n",
        "  print(df[col].value_counts())\n",
        "  print(\"-\"*30)"
      ]
    },
    {
      "cell_type": "markdown",
      "metadata": {
        "id": "3dsmYw65Nf4n"
      },
      "source": [
        "## Transformaciones de datos\n",
        "\n",
        "La variable objetivo en este caso es `Encuentra_trabajo`, por lo que las demás variables se considerarán predictoras."
      ]
    },
    {
      "cell_type": "code",
      "execution_count": null,
      "metadata": {
        "colab": {
          "base_uri": "https://localhost:8080/"
        },
        "id": "UfELOIlVNmnF",
        "outputId": "8711dd46-0bc0-45ca-964e-79be28a0b1ce"
      },
      "outputs": [],
      "source": [
        "from sklearn.preprocessing import LabelEncoder\n",
        "\n",
        "le = LabelEncoder()\n",
        "df[\"Encuentra_trabajo\"] = le.fit_transform(df[\"Encuentra_trabajo\"])\n",
        "df[\"Encuentra_trabajo\"].unique()"
      ]
    },
    {
      "cell_type": "code",
      "execution_count": null,
      "metadata": {
        "colab": {
          "base_uri": "https://localhost:8080/",
          "height": 226
        },
        "id": "Swb-MrnBOQDv",
        "outputId": "dcbe44f2-015d-4e73-81a7-c513318aca4d"
      },
      "outputs": [],
      "source": [
        "df = pd.get_dummies(df, columns=[\"Sexo\", \"Area_del_Conocimiento\", \"Conocimientos_basicos_de_informatica\", \"Dominio_2do_idioma\"], drop_first=True, dtype=\"int64\")\n",
        "df.head()"
      ]
    },
    {
      "cell_type": "code",
      "execution_count": null,
      "metadata": {
        "colab": {
          "base_uri": "https://localhost:8080/"
        },
        "id": "8RWp5MjcUzOE",
        "outputId": "46b8573d-d6d3-472e-ff8a-d9083ef690f6"
      },
      "outputs": [],
      "source": [
        "df.info()"
      ]
    }
  ],
  "metadata": {
    "colab": {
      "provenance": [],
      "toc_visible": true
    },
    "kernelspec": {
      "display_name": "Python 3",
      "name": "python3"
    },
    "language_info": {
      "codemirror_mode": {
        "name": "ipython",
        "version": 3
      },
      "file_extension": ".py",
      "mimetype": "text/x-python",
      "name": "python",
      "nbconvert_exporter": "python",
      "pygments_lexer": "ipython3",
      "version": "3.12.4"
    }
  },
  "nbformat": 4,
  "nbformat_minor": 0
}
